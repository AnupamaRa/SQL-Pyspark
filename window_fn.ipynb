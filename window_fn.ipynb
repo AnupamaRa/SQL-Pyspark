{
 "cells": [
  {
   "cell_type": "code",
   "execution_count": 0,
   "metadata": {
    "application/vnd.databricks.v1+cell": {
     "cellMetadata": {
      "byteLimit": 2048000,
      "rowLimit": 10000
     },
     "inputWidgets": {},
     "nuid": "cc1e6143-0505-439a-a1a4-2771e7a0fbad",
     "showTitle": false,
     "tableResultSettingsMap": {},
     "title": ""
    }
   },
   "outputs": [],
   "source": [
    "#Get top 2 students per department by marks\n",
    "\n",
    "\n",
    "from pyspark.sql import SparkSession\n",
    "from pyspark.sql.functions import col\n",
    "from pyspark.sql.window import Window\n",
    "from pyspark.sql.functions import sum, rank, dense_rank, row_number\n",
    "\n",
    "spark = SparkSession.builder.appName(\"window function\").getOrCreate()\n",
    "\n",
    "data = [(\"alice\", \"hr\", 350), (\"bob\", \"hr\", 345), (\"ankit\", \"ee\", 356), (\"sam\",\"ee\",456), (\"reem\", \"cloud\", 765),(\"anupama\", \"cloud\",987), (\"ankita\", \"hr\" , 654)]\n",
    "\n",
    "columns = [\"name\", \"department\",\"marks\"]\n",
    "\n",
    "df = spark.createDataFrame(data,columns)\n",
    "df.show()\n",
    "windowSpec = Window.partitionBy(\"department\").orderBy(col(\"marks\").desc())\n",
    "\n",
    "df_with_rank = df.withColumn(\"row_number\", row_number().over(windowSpec))\n",
    "df_with_rank.show()\n",
    "top_2 = df_with_rank.filter(df_with_rank.row_number <= 2)\n",
    "top_2.show()\n",
    "\n",
    "\n",
    "#Now doing using only sql operation \n",
    "\n",
    "df.createOrReplaceTempView(\"students\")\n",
    "df1 = spark.sql(\"\"\"SELECT name, department, marks\n",
    "                FROM (SELECT *, row_number() OVER (PARTITION BY department ORDER BY marks DESC) AS rn \n",
    "                FROM students) where rn <=2\n",
    "                \"\"\")\n",
    "df1.show()\n",
    "\n",
    "\n",
    "\n"
   ]
  }
 ],
 "metadata": {
  "application/vnd.databricks.v1+notebook": {
   "computePreferences": null,
   "dashboards": [],
   "environmentMetadata": {
    "base_environment": "",
    "environment_version": "2"
   },
   "inputWidgetPreferences": null,
   "language": "python",
   "notebookMetadata": {
    "pythonIndentUnit": 4
   },
   "notebookName": "window_fn",
   "widgets": {}
  },
  "language_info": {
   "name": "python"
  }
 },
 "nbformat": 4,
 "nbformat_minor": 0
}
