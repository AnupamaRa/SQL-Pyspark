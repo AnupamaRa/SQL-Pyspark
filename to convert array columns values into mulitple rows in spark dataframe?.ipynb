{
 "cells": [
  {
   "cell_type": "code",
   "execution_count": 0,
   "metadata": {
    "application/vnd.databricks.v1+cell": {
     "cellMetadata": {
      "byteLimit": 2048000,
      "rowLimit": 10000
     },
     "inputWidgets": {},
     "nuid": "c4272fa3-71ac-489f-a6b0-24c043253f0d",
     "showTitle": false,
     "tableResultSettingsMap": {},
     "title": ""
    }
   },
   "outputs": [],
   "source": [
    "from pyspark.sql import SparkSession\n",
    "from pyspark.sql.functions import explode\n",
    "\n",
    "spark = SparkSession.builder.appName(\"array columns values into mulitple rows\").getOrCreate()\n",
    "\n",
    "data = [(\"Anupama\", [\"Python\", \"SQL\", \"PySpark\"]),\n",
    "    (\"Ravi\", [\"Java\", \"Scala\"])]\n",
    "column = [\"name\", \"skills\"]\n",
    "\n",
    "df = spark.createDataFrame(data, column)\n",
    "\n",
    "# when we use truncate function in df.show(), it will show all charachter after 20 charachter otherwise by default it will get cut after 20 char.\n",
    "\n",
    "df.show(truncate= False)\n"
   ]
  },
  {
   "cell_type": "code",
   "execution_count": 0,
   "metadata": {
    "application/vnd.databricks.v1+cell": {
     "cellMetadata": {
      "byteLimit": 2048000,
      "rowLimit": 10000
     },
     "inputWidgets": {},
     "nuid": "7e6d954a-fe5c-4524-a93d-810ac2919e74",
     "showTitle": false,
     "tableResultSettingsMap": {},
     "title": ""
    }
   },
   "outputs": [],
   "source": [
    "#now convert the array of multiple rows using explode function.\n",
    "\n",
    "df_exploded = df.withColumn(\"skills\", explode(df[\"skills\"]))\n",
    "df_exploded.show(truncate = False)\n"
   ]
  }
 ],
 "metadata": {
  "application/vnd.databricks.v1+notebook": {
   "computePreferences": null,
   "dashboards": [],
   "environmentMetadata": {
    "base_environment": "",
    "environment_version": "2"
   },
   "inputWidgetPreferences": null,
   "language": "python",
   "notebookMetadata": {
    "pythonIndentUnit": 4
   },
   "notebookName": "to convert array columns values into mulitple rows in spark dataframe?",
   "widgets": {}
  },
  "language_info": {
   "name": "python"
  }
 },
 "nbformat": 4,
 "nbformat_minor": 0
}
